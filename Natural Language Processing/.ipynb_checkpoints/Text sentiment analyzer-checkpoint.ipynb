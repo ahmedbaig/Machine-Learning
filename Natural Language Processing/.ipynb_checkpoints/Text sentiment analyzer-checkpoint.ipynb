{
 "cells": [
  {
   "cell_type": "code",
   "execution_count": 1,
   "metadata": {},
   "outputs": [],
   "source": [
    "import nltk\n",
    "from nltk.corpus import movie_reviews\n",
    "from nltk.classify.scikitlearn import SklearnClassifier\n",
    "from nltk.tokenize import sent_tokenize, word_tokenize\n",
    "from nltk.corpus import stopwords\n",
    "\n",
    "import random\n",
    "import pickle\n",
    "\n",
    "from sklearn.naive_bayes import MultinomialNB, GaussianNB, BernoulliNB\n",
    "from sklearn.linear_model import LogisticRegression,SGDClassifier\n",
    "from sklearn.svm import SVC, LinearSVC, NuSVC\n",
    "\n",
    "from nltk.classify import ClassifierI\n",
    "from statistics import mode\n",
    "\n",
    "from collections import Counter"
   ]
  },
  {
   "cell_type": "code",
   "execution_count": 2,
   "metadata": {},
   "outputs": [],
   "source": [
    "def save_pickle(name, classifier):\n",
    "    byte_write = open(name, 'wb')\n",
    "    pickle.dump(classifier, byte_write)\n",
    "    byte_write.close()\n",
    "    \n",
    "def load_pickle(name):\n",
    "    byte_read = open(name, 'rb')\n",
    "    loaded = pickle.load(byte_read)\n",
    "    byte_read.close()\n",
    "    return loaded "
   ]
  },
  {
   "cell_type": "code",
   "execution_count": 3,
   "metadata": {},
   "outputs": [],
   "source": [
    "class VoteClassifier(ClassifierI):\n",
    "    def __init__(self, *classifiers):\n",
    "        self._classifiers = classifiers\n",
    "    \n",
    "    def classify(self, features):\n",
    "        votes = []\n",
    "        for c in self._classifiers:\n",
    "            v = c.classify(features)\n",
    "            votes.append(v) \n",
    "        return mode(votes)\n",
    "    \n",
    "    def confidence(self, features):\n",
    "        votes = []\n",
    "        for c in self._classifiers:\n",
    "            v = c.classify(features)\n",
    "            votes.append(v)\n",
    "        choice_votes = votes.count(mode(votes))\n",
    "        conf = choice_votes / len(votes)\n",
    "        return conf\n",
    "     "
   ]
  },
  {
   "cell_type": "code",
   "execution_count": 4,
   "metadata": {},
   "outputs": [],
   "source": [
    "short_pos = open(\"datasets/movie_review_positive.txt\",\"r\").read()\n",
    "short_neg = open(\"datasets/movie_review_negative.txt\",\"r\").read()\n",
    "\n",
    "# all_words = []\n",
    "# documents = []\n",
    "\n",
    "# #  j is adjectives, r is adverb, and v is verb\n",
    "# #allowed_word_types = [\"J\",\"R\",\"V\"]\n",
    "# allowed_word_types = [\"J\"]\n",
    "\n",
    "# for r in short_pos.split('\\n'):\n",
    "#     documents.append((r, 'pos'))\n",
    "#     words = word_tokenize(r)\n",
    "#     pos = nltk.pos_tag(words)\n",
    "#     for w in pos:\n",
    "#         if w[1][0] in allowed_word_types:\n",
    "#             all_words.append(w[0].lower())\n",
    "    \n",
    "# for r in short_neg.split('\\n'):\n",
    "#     documents.append((r, 'neg'))\n",
    "#     words = word_tokenize(r)\n",
    "#     pos = nltk.pos_tag(words)\n",
    "#     for w in pos:\n",
    "#         if w[1][0] in allowed_word_types:\n",
    "#             all_words.append(w[0].lower())\n",
    "\n",
    "# short_pos_words = word_tokenize(short_pos)\n",
    "# short_neg_words = word_tokenize(short_neg)\n",
    "\n",
    "# for w in short_pos_words:\n",
    "#     all_words.append(w.lower())\n",
    "    \n",
    "# for w in short_neg_words:\n",
    "#     all_words.append(w.lower())\n",
    "\n",
    "all_words = load_pickle(\"word_frequencies/all_words.pickle\")\n",
    "documents = load_pickle(\"word_frequencies/documents.pickle\")"
   ]
  },
  {
   "cell_type": "code",
   "execution_count": 5,
   "metadata": {},
   "outputs": [],
   "source": [
    "# all_words = nltk.FreqDist(all_words)\n",
    "# word_features = list(all_words.keys())[:10000]\n",
    "word_features = load_pickle(\"word_frequencies/word_features.pickle\")\n",
    "\n",
    "def find_features(document):\n",
    "    words = word_tokenize(document)\n",
    "    features = {}\n",
    "    for w in word_features:\n",
    "        features[w] = (w in words)\n",
    "    return features\n",
    "        \n",
    "\n",
    "# featuresets = [(find_features(rev), category) for (rev, category) in documents]\n",
    "# random.shuffle(featuresets)\n",
    "featuresets = load_pickle('word_frequencies/featureset.pickle') "
   ]
  },
  {
   "cell_type": "code",
   "execution_count": 6,
   "metadata": {},
   "outputs": [
    {
     "name": "stdout",
     "output_type": "stream",
     "text": [
      "Original Naive Bayes Algo accuracy percent: 78.3132530120482\n",
      "Most Informative Features\n",
      "              engrossing = True              pos : neg    =     20.3 : 1.0\n",
      "             examination = True              pos : neg    =     16.3 : 1.0\n",
      "               inventive = True              pos : neg    =     15.0 : 1.0\n",
      "                    flat = True              neg : pos    =     14.6 : 1.0\n",
      "                mediocre = True              neg : pos    =     14.3 : 1.0\n",
      "              refreshing = True              pos : neg    =     13.7 : 1.0\n",
      "                  boring = True              neg : pos    =     13.6 : 1.0\n",
      "               wonderful = True              pos : neg    =     12.2 : 1.0\n",
      "                touching = True              pos : neg    =     11.9 : 1.0\n",
      "                    warm = True              pos : neg    =     11.8 : 1.0\n",
      "                   stale = True              neg : pos    =     11.7 : 1.0\n",
      "            refreshingly = True              pos : neg    =     11.0 : 1.0\n",
      "                provides = True              pos : neg    =     11.0 : 1.0\n",
      "                captures = True              pos : neg    =     11.0 : 1.0\n",
      "                mindless = True              neg : pos    =     11.0 : 1.0\n",
      "MNB_classifier accuracy percent: 78.3132530120482\n",
      "BernoulliNB_classifier accuracy percent: 78.46385542168674\n",
      "LogisticRegression_classifier accuracy percent: 79.36746987951807\n"
     ]
    },
    {
     "name": "stderr",
     "output_type": "stream",
     "text": [
      "C:\\Users\\Public\\Anaconda3\\lib\\site-packages\\sklearn\\linear_model\\stochastic_gradient.py:128: FutureWarning: max_iter and tol parameters have been added in <class 'sklearn.linear_model.stochastic_gradient.SGDClassifier'> in 0.19. If both are left unset, they default to max_iter=5 and tol=None. If tol is not None, max_iter defaults to max_iter=1000. From 0.21, default max_iter will be 1000, and default tol will be 1e-3.\n",
      "  \"and default tol will be 1e-3.\" % type(self), FutureWarning)\n"
     ]
    },
    {
     "name": "stdout",
     "output_type": "stream",
     "text": [
      "SGDClassifier_classifier accuracy percent: 77.40963855421687\n",
      "LinearSVC_classifier accuracy percent: 76.6566265060241\n",
      "NuSVC_classifier accuracy percent: 78.46385542168674\n"
     ]
    }
   ],
   "source": [
    "# positive data example:      \n",
    "training_set = featuresets[:10000]\n",
    "testing_set =  featuresets[10000:] \n",
    "\n",
    "# classifier = nltk.NaiveBayesClassifier.train(training_set)\n",
    "classifier = load_pickle('classifiers/NaiveBayesClassifier.pickle')\n",
    "print(\"Original Naive Bayes Algo accuracy percent:\", (nltk.classify.accuracy(classifier, testing_set))*100)\n",
    "classifier.show_most_informative_features(15)\n",
    "\n",
    "# MNB_classifier = SklearnClassifier(MultinomialNB())\n",
    "# MNB_classifier.train(training_set)\n",
    "MNB_classifier = load_pickle(\"classifiers/MNB_classifier.pickle\")\n",
    "print(\"MNB_classifier accuracy percent:\", (nltk.classify.accuracy(MNB_classifier, testing_set))*100)\n",
    "\n",
    "# BernoulliNB_classifier = SklearnClassifier(BernoulliNB())\n",
    "# BernoulliNB_classifier.train(training_set)\n",
    "BernoulliNB_classifier = load_pickle(\"classifiers/BernoulliNB_classifier.pickle\")\n",
    "print(\"BernoulliNB_classifier accuracy percent:\", (nltk.classify.accuracy(BernoulliNB_classifier, testing_set))*100)\n",
    "\n",
    "# LogisticRegression_classifier = SklearnClassifier(LogisticRegression())\n",
    "# LogisticRegression_classifier.train(training_set)\n",
    "LogisticRegression_classifier = load_pickle(\"classifiers/LogisticRegression_classifier.pickle\")\n",
    "print(\"LogisticRegression_classifier accuracy percent:\", (nltk.classify.accuracy(LogisticRegression_classifier, testing_set))*100)\n",
    "\n",
    "# SGDClassifier_classifier = SklearnClassifier(SGDClassifier())\n",
    "# SGDClassifier_classifier.train(training_set)\n",
    "SGDClassifier_classifier = load_pickle(\"classifiers/SGDClassifier_classifier.pickle\")\n",
    "print(\"SGDClassifier_classifier accuracy percent:\", (nltk.classify.accuracy(SGDClassifier_classifier, testing_set))*100) \n",
    "\n",
    "# LinearSVC_classifier = SklearnClassifier(LinearSVC())\n",
    "# LinearSVC_classifier.train(training_set)\n",
    "LinearSVC_classifier = load_pickle(\"classifiers/LinearSVC_classifier.pickle\")\n",
    "print(\"LinearSVC_classifier accuracy percent:\", (nltk.classify.accuracy(LinearSVC_classifier, testing_set))*100)\n",
    "\n",
    "# NuSVC_classifier = SklearnClassifier(NuSVC())\n",
    "# NuSVC_classifier.train(training_set)\n",
    "NuSVC_classifier = load_pickle(\"classifiers/NuSVC_classifier.pickle\")\n",
    "print(\"NuSVC_classifier accuracy percent:\", (nltk.classify.accuracy(NuSVC_classifier, testing_set))*100) "
   ]
  },
  {
   "cell_type": "code",
   "execution_count": 27,
   "metadata": {},
   "outputs": [
    {
     "name": "stdout",
     "output_type": "stream",
     "text": [
      "Voted classifier Naive Bayes Algorithm accuracy: 79.06626506024097\n"
     ]
    }
   ],
   "source": [
    "voted_classifier = VoteClassifier(MNB_classifier, \n",
    "                                  BernoulliNB_classifier, \n",
    "                                  LogisticRegression_classifier, \n",
    "                                  LinearSVC_classifier, \n",
    "                                  NuSVC_classifier)\n",
    "print(\"Voted classifier Naive Bayes Algorithm accuracy:\", (nltk.classify.accuracy(voted_classifier, testing_set))*100)"
   ]
  },
  {
   "cell_type": "code",
   "execution_count": 16,
   "metadata": {},
   "outputs": [],
   "source": [
    "def sentiment(text):\n",
    "    feats = find_features(text) \n",
    "    return voted_classifier.classify(feats),voted_classifier.confidence(feats)"
   ]
  },
  {
   "cell_type": "code",
   "execution_count": 33,
   "metadata": {},
   "outputs": [
    {
     "name": "stdout",
     "output_type": "stream",
     "text": [
      "I loved this movie and I will watch again.\n",
      "('pos', 1.0)\n"
     ]
    }
   ],
   "source": [
    "# print(sentiment(\"I loved the movie. Probably going to buy and give it to my dad. He loved it\")) # False negative\n",
    "# print(sentiment(\"My dad loved it\"))\n",
    "# print(sentiment(\"The movie was awesome and I loved the acting\"))\n",
    "# print(sentiment(\"I hated that movie and I'll never watch that movie again\"))\n",
    "user_input = input()\n",
    "\n",
    "print(sentiment(user_input))"
   ]
  },
  {
   "cell_type": "code",
   "execution_count": 26,
   "metadata": {},
   "outputs": [],
   "source": [
    "# print(\"Classification: \", voted_classifier.classify(testing_set[0][0]), \"Confidence %: \", voted_classifier.confidence(testing_set[0][0])*100)\n",
    "# print(\"Classification: \", voted_classifier.classify(testing_set[1][0]), \"Confidence %: \", voted_classifier.confidence(testing_set[1][0])*100)\n",
    "# print(\"Classification: \", voted_classifier.classify(testing_set[2][0]), \"Confidence %: \", voted_classifier.confidence(testing_set[2][0])*100)\n",
    "# print(\"Classification: \", voted_classifier.classify(testing_set[3][0]), \"Confidence %: \", voted_classifier.confidence(testing_set[3][0])*100)\n",
    "# print(\"Classification: \", voted_classifier.classify(testing_set[4][0]), \"Confidence %: \", voted_classifier.confidence(testing_set[4][0])*100)\n",
    "# print(\"Classification: \", voted_classifier.classify(testing_set[5][0]), \"Confidence %: \", voted_classifier.confidence(testing_set[5][0])*100)\n",
    "# print(\"Classification: \", voted_classifier.classify(testing_set[6][0]), \"Confidence %: \", voted_classifier.confidence(testing_set[6][0])*100)\n",
    "# print(\"Classification: \", voted_classifier.classify(testing_set[7][0]), \"Confidence %: \", voted_classifier.confidence(testing_set[7][0])*100)\n",
    "# print(\"Classification: \", voted_classifier.classify(testing_set[8][0]), \"Confidence %: \", voted_classifier.confidence(testing_set[8][0])*100)\n",
    "# print(\"Classification: \", voted_classifier.classify(testing_set[9][0]), \"Confidence %: \", voted_classifier.confidence(testing_set[9][0])*100)"
   ]
  },
  {
   "cell_type": "code",
   "execution_count": 8,
   "metadata": {},
   "outputs": [],
   "source": [
    "# save_pickle(\"classifiers/NaiveBayesClassifier.pickle\", classifier)\n",
    "# save_pickle(\"classifiers/MNB_classifier.pickle\", MNB_classifier)\n",
    "# save_pickle(\"classifiers/BernoulliNB_classifier.pickle\", BernoulliNB_classifier)\n",
    "# save_pickle(\"classifiers/LogisticRegression_classifier.pickle\", LogisticRegression_classifier)\n",
    "# save_pickle(\"classifiers/SGDClassifier_classifier.pickle\", SGDClassifier_classifier)\n",
    "# save_pickle(\"classifiers/LinearSVC_classifier.pickle\", LinearSVC_classifier)\n",
    "# save_pickle(\"classifiers/NuSVC_classifier.pickle\", NuSVC_classifier)\n",
    " \n",
    "# save_pickle(\"word_frequencies/all_word_frequencies.pickle\", nltk.FreqDist(all_words))\n",
    "# save_pickle(\"word_frequencies/all_words.pickle\", all_words)\n",
    "# save_pickle(\"word_frequencies/documents.pickle\", documents)\n",
    "# save_pickle(\"word_frequencies/featureset.pickle\", featuresets)\n",
    "# save_pickle(\"word_frequencies/word_features.pickle\", word_features)"
   ]
  }
 ],
 "metadata": {
  "kernelspec": {
   "display_name": "Python 3",
   "language": "python",
   "name": "python3"
  },
  "language_info": {
   "codemirror_mode": {
    "name": "ipython",
    "version": 3
   },
   "file_extension": ".py",
   "mimetype": "text/x-python",
   "name": "python",
   "nbconvert_exporter": "python",
   "pygments_lexer": "ipython3",
   "version": "3.7.0"
  }
 },
 "nbformat": 4,
 "nbformat_minor": 2
}
