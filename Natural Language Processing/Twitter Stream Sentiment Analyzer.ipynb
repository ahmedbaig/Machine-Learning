{
 "cells": [
  {
   "cell_type": "code",
   "execution_count": 3,
   "metadata": {},
   "outputs": [
    {
     "name": "stdout",
     "output_type": "stream",
     "text": [
      "Original Naive Bayes Algo accuracy percent: 78.3132530120482\n",
      "Most Informative Features\n",
      "              engrossing = True              pos : neg    =     20.3 : 1.0\n",
      "             examination = True              pos : neg    =     16.3 : 1.0\n",
      "               inventive = True              pos : neg    =     15.0 : 1.0\n",
      "                    flat = True              neg : pos    =     14.6 : 1.0\n",
      "                mediocre = True              neg : pos    =     14.3 : 1.0\n",
      "              refreshing = True              pos : neg    =     13.7 : 1.0\n",
      "                  boring = True              neg : pos    =     13.6 : 1.0\n",
      "               wonderful = True              pos : neg    =     12.2 : 1.0\n",
      "                touching = True              pos : neg    =     11.9 : 1.0\n",
      "                    warm = True              pos : neg    =     11.8 : 1.0\n",
      "                   stale = True              neg : pos    =     11.7 : 1.0\n",
      "            refreshingly = True              pos : neg    =     11.0 : 1.0\n",
      "                provides = True              pos : neg    =     11.0 : 1.0\n",
      "                captures = True              pos : neg    =     11.0 : 1.0\n",
      "                mindless = True              neg : pos    =     11.0 : 1.0\n",
      "MNB_classifier accuracy percent: 78.3132530120482\n",
      "BernoulliNB_classifier accuracy percent: 78.46385542168674\n",
      "LogisticRegression_classifier accuracy percent: 79.36746987951807\n",
      "SGDClassifier_classifier accuracy percent: 77.40963855421687\n",
      "LinearSVC_classifier accuracy percent: 76.6566265060241\n",
      "NuSVC_classifier accuracy percent: 78.46385542168674\n",
      "Voted classifier Naive Bayes Algorithm accuracy: 79.06626506024097\n"
     ]
    }
   ],
   "source": [
    "from tweepy import Stream\n",
    "from tweepy import OAuthHandler\n",
    "from tweepy.streaming import StreamListener\n",
    "import json\n",
    "import text_sentiment_analyzer as s"
   ]
  },
  {
   "cell_type": "code",
   "execution_count": 8,
   "metadata": {},
   "outputs": [],
   "source": [
    "class listener(StreamListener):\n",
    "\n",
    "    def on_data(self, data):\n",
    "\n",
    "        all_data = json.loads(data)\n",
    "\n",
    "        tweet = all_data[\"text\"]\n",
    "        sentiment_value, confidence = s.sentiment(tweet)\n",
    "        print(tweet, sentiment_value, confidence)\n",
    "\n",
    "        if confidence*100 >= 80:\n",
    "            output = open(\"datasets/twitter-out.txt\",\"a\")\n",
    "            output.write(sentiment_value)\n",
    "            output.write('\\n')\n",
    "            output.close()\n",
    "\n",
    "        return True\n",
    "\n",
    "    def on_error(self, status):\n",
    "        print(status)"
   ]
  },
  {
   "cell_type": "code",
   "execution_count": null,
   "metadata": {},
   "outputs": [],
   "source": [
    "#consumer key, consumer secret, access token, access secret.\n",
    "ckey=\"ByaKUksrio5C7XoUDzOogZNhF\"\n",
    "csecret=\"kqLaVgJS4ydMJwwHLLabefyAWY5TXXHIdBsrmVVdOqVVqJqxQW\"\n",
    "atoken=\"375684251-LoIZ9ydZfmrkyCkoIjE2v8hoPt873UlBljLdZLnm\"\n",
    "asecret=\"EkKxnmFdSrDM9rSllE2Tgy22keLOK9FBNeZZM2qQPZH2c\""
   ]
  },
  {
   "cell_type": "code",
   "execution_count": null,
   "metadata": {
    "scrolled": true
   },
   "outputs": [],
   "source": [
    "auth = OAuthHandler(ckey, csecret)\n",
    "auth.set_access_token(atoken, asecret)\n",
    "\n",
    "twitterStream = Stream(auth, listener())\n",
    "\n",
    "keyword = input()\n",
    "twitterStream.filter(track=[keyword])"
   ]
  }
 ],
 "metadata": {
  "kernelspec": {
   "display_name": "Python 3",
   "language": "python",
   "name": "python3"
  },
  "language_info": {
   "codemirror_mode": {
    "name": "ipython",
    "version": 3
   },
   "file_extension": ".py",
   "mimetype": "text/x-python",
   "name": "python",
   "nbconvert_exporter": "python",
   "pygments_lexer": "ipython3",
   "version": "3.7.0"
  }
 },
 "nbformat": 4,
 "nbformat_minor": 2
}
